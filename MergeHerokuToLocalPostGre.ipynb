{
 "cells": [
  {
   "cell_type": "code",
   "execution_count": 2,
   "metadata": {},
   "outputs": [
    {
     "name": "stderr",
     "output_type": "stream",
     "text": [
      "/home/c/.local/lib/python3.7/site-packages/psycopg2/__init__.py:144: UserWarning: The psycopg2 wheel package will be renamed from release 2.8; in order to keep installing from binary please use \"pip install psycopg2-binary\" instead. For details see: <http://initd.org/psycopg/docs/install.html#binary-install-from-pypi>.\n",
      "  \"\"\")\n"
     ]
    }
   ],
   "source": [
    "from datetime import datetime\n",
    "from requests import get as curl\n",
    "import ujson as json\n",
    "import pandas as pd\n",
    "import numpy as np\n",
    "from functools import reduce\n",
    "import os\n",
    "\n",
    "#Database Imports\n",
    "import psycopg2 as postgre\n",
    "from psycopg2.sql import SQL, Identifier\n",
    "from sqlalchemy import create_engine"
   ]
  },
  {
   "cell_type": "code",
   "execution_count": 3,
   "metadata": {},
   "outputs": [],
   "source": [
    "herokuDB = postgre.connect('MY CREDENTIALS')\n",
    "hcursor = herokuDB.cursor()\n",
    "\n",
    "localDB = postgre.connect('MY CREDENTIALS')\n",
    "lcursor = localDB.cursor()\n"
   ]
  },
  {
   "cell_type": "code",
   "execution_count": null,
   "metadata": {},
   "outputs": [],
   "source": [
    "# def add_new_tables(new_tables, db, sql_cursor):\n",
    "#     for table in new_tables:\n",
    "#         print(f'New table found! Adding {table} to the database.')\n",
    "#         sql_cursor.execute(f\"INSERT INTO tables(tables) VALUES(%s);\", [table])\n",
    "#         sql_command = f\"CREATE TABLE {feature} (\\nTimestamp TIMESTAMP PRIMARY KEY,\\n\"\n",
    "#         for symbol in symbols:\n",
    "#             sql_command += f\"{symbol} DOUBLE PRECISION,\\n\"\n",
    "\n",
    "#         sql_command = sql_command[:-2] + \");\"\n",
    "#         sql_cursor.execute(sql_command)\n",
    "#     db.commit()\n",
    "#     return # END add_new_tables"
   ]
  },
  {
   "cell_type": "code",
   "execution_count": 13,
   "metadata": {
    "scrolled": true
   },
   "outputs": [
    {
     "name": "stdout",
     "output_type": "stream",
     "text": [
      "INSERTED 1 rows into lastprice ending at 2019-01-11 05:01:39.454231\n",
      "INSERTED 1 rows into prevcloseprice ending at 2019-01-11 05:01:39.454231\n",
      "INSERTED 1 rows into pricechange ending at 2019-01-11 05:01:39.454231\n",
      "INSERTED 1 rows into weightedavgprice ending at 2019-01-11 05:01:39.454231\n",
      "INSERTED 1 rows into lastqty ending at 2019-01-11 05:01:39.454231\n",
      "INSERTED 1 rows into highprice ending at 2019-01-11 05:01:39.454231\n",
      "INSERTED 1 rows into openprice ending at 2019-01-11 05:01:39.454231\n",
      "INSERTED 1 rows into askqty ending at 2019-01-11 05:01:39.454231\n",
      "INSERTED 1 rows into pricechangepercent ending at 2019-01-11 05:01:39.454231\n",
      "INSERTED 1 rows into bidprice ending at 2019-01-11 05:01:39.454231\n",
      "INSERTED 1 rows into askprice ending at 2019-01-11 05:01:39.454231\n",
      "INSERTED 1 rows into quotevolume ending at 2019-01-11 05:01:39.454231\n",
      "INSERTED 1 rows into volume ending at 2019-01-11 05:01:39.454231\n",
      "INSERTED 1 rows into lowprice ending at 2019-01-11 05:01:39.454231\n",
      "INSERTED 1 rows into count ending at 2019-01-11 05:01:39.454231\n",
      "INSERTED 1 rows into bidqty ending at 2019-01-11 05:01:39.454231\n",
      "ALL DONE UPDATING LOCAL POSTGRE DB! \n",
      "LATEST TIMESTAMP: 2019-01-11 05:01:39.454231\n"
     ]
    }
   ],
   "source": [
    "# QUERY ALL TABLE NAMES \n",
    "hcursor.execute(\"SELECT table_name FROM information_schema.tables WHERE table_schema='public' AND table_type='BASE TABLE';\")\n",
    "htables = set( x[0] for x in hcursor.fetchall() )\n",
    "\n",
    "lcursor.execute(\"SELECT table_name FROM information_schema.tables WHERE table_schema='public' AND table_type='BASE TABLE';\")\n",
    "tables = set( x[0] for x in lcursor.fetchall() )\n",
    "\n",
    "assert( tables == htables )\n",
    "\n",
    "# Merge:\n",
    "for table in tables:\n",
    "    # Handle these separately. We may not use these tables anymore as they were replaced by schema queries.\n",
    "    if table in ['symbols', 'tables']:\n",
    "        continue\n",
    "    \n",
    "    # QUERY ALL COLUMN NAMES FOR THIS TABLE\n",
    "    hcursor.execute(f\"SELECT column_name FROM information_schema.columns WHERE table_name = '{table}';\")\n",
    "    hsymbols = [x[0] for x in hcursor.fetchall() ]\n",
    "    \n",
    "    lcursor.execute(f\"SELECT column_name FROM information_schema.columns WHERE table_name = '{table}';\")\n",
    "    lsymbols = [x[0] for x in lcursor.fetchall() ]\n",
    "    \n",
    "    # If there are new coins, add them as columns before we add rows. \n",
    "    if hsymbols > lsymbols:\n",
    "        new_cols = hsymbols[len(lsymbols):]\n",
    "        for coin in new_cols:\n",
    "            print(f'New coin found! Adding {coin} to {table}')\n",
    "            lcursor.execute( f\"ALTER TABLE {table} ADD COLUMN {coin} DOUBLE PRECISION;\")\n",
    "            # NOTE: Using psycopg2.SQL and Identifier to parse table and column names does not work properly \n",
    "            #   and sometimes gives random errors. We found it a random problem with the parser, since sqlite works fine.\n",
    "        localDB.commit()\n",
    "        \n",
    "    # If Heroku has less columns than our local DB something weird happened.\n",
    "    elif len(hsymbols) < len(lsymbols):\n",
    "        print(f\"ERROR heroku DB has less columns than our local one. \\n HEROKU: {hsymbols} \\n LOCAL: {lsymbols}\")\n",
    "    \n",
    "    # Get latest local timestamp.\n",
    "    lcursor.execute(f\"SELECT timestamp FROM {table} ORDER BY timestamp DESC LIMIT 1;\")\n",
    "    latest_ts_local = lcursor.fetchall()[0][0]\n",
    "    \n",
    "    # Check for new rows in Heroku accoding to our last local timestamp.\n",
    "    hcursor.execute(f\"SELECT * FROM {table} WHERE timestamp > %s\", [latest_ts_local])\n",
    "    newRows = hcursor.fetchall()\n",
    "    \n",
    "    # Insert new rows into our localDB\n",
    "    if newRows:\n",
    "        for row in newRows:\n",
    "            lcursor.execute(f\"INSERT INTO {table} ({','.join(hsymbols)}) VALUES ({('%s,'*len(hsymbols))[:-1]})\", row)\n",
    "\n",
    "        print(f\"INSERTED {len(newRows)} rows into {table} ending at {newRows[-1][0]}\")\n",
    "\n",
    "localDB.commit()\n",
    "print(f\"ALL DONE UPDATING LOCAL POSTGRE DB!\")\n",
    "print(f\"Time finished (local time): {datetime.utcnow()}\")"
   ]
  },
  {
   "cell_type": "code",
   "execution_count": null,
   "metadata": {},
   "outputs": [],
   "source": [
    "## PRINT LOG AFTER DONE UPDATING.\n",
    "hcursor.execute(f\"SELECT * FROM log;\")\n",
    "print( hcursor.fetchall() )"
   ]
  },
  {
   "cell_type": "code",
   "execution_count": null,
   "metadata": {},
   "outputs": [],
   "source": [
    "# herokuDB.rollback()"
   ]
  },
  {
   "cell_type": "code",
   "execution_count": null,
   "metadata": {},
   "outputs": [],
   "source": [
    "# localDB.rollback()"
   ]
  },
  {
   "cell_type": "code",
   "execution_count": 12,
   "metadata": {},
   "outputs": [],
   "source": [
    "# DELETE LOG\n",
    "# hcursor.execute(\"DELETE FROM log;\")\n",
    "# herokuDB.commit()\n",
    "\n",
    "### DELETE ALL TABLES\n",
    "# def delete_remote_data():\n",
    "#     error = 0\n",
    "#     for table in tables:\n",
    "#         if table in ['symbols', 'tables']:\n",
    "#             continue\n",
    "\n",
    "#         lcursor.execute(f\"SELECT timestamp FROM {table} ORDER BY timestamp DESC LIMIT 1;\")\n",
    "#         latest_ts_local = lcursor.fetchall()[0][0]\n",
    "\n",
    "#         hcursor.execute(f\"SELECT * FROM {table} WHERE timestamp > %s\", [latest_ts_local])\n",
    "#         newRows = hcursor.fetchall()\n",
    "\n",
    "#         if not newRows:\n",
    "#             hcursor.execute(f\"DELETE FROM {table};\")\n",
    "#         else:\n",
    "#             print(f\"ERROR TRIED TO DELETE ALL TABLES BUT {table} has new rows not in localDB\")\n",
    "#             herokuDB.rollback()\n",
    "#             error = 1\n",
    "#             break\n",
    "#     if not error:\n",
    "#         herokuDB.commit()"
   ]
  }
 ],
 "metadata": {
  "kernelspec": {
   "display_name": "Python 3",
   "language": "python",
   "name": "python3"
  },
  "language_info": {
   "codemirror_mode": {
    "name": "ipython",
    "version": 3
   },
   "file_extension": ".py",
   "mimetype": "text/x-python",
   "name": "python",
   "nbconvert_exporter": "python",
   "pygments_lexer": "ipython3",
   "version": "3.7.1"
  }
 },
 "nbformat": 4,
 "nbformat_minor": 2
}
